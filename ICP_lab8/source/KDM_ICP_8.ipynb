{
  "nbformat": 4,
  "nbformat_minor": 0,
  "metadata": {
    "colab": {
      "name": "KDM_ICP_8.ipynb",
      "provenance": [],
      "authorship_tag": "ABX9TyNmF+YnX7pMlrzf73zcPF7S",
      "include_colab_link": true
    },
    "kernelspec": {
      "name": "python3",
      "display_name": "Python 3"
    }
  },
  "cells": [
    {
      "cell_type": "markdown",
      "metadata": {
        "id": "view-in-github",
        "colab_type": "text"
      },
      "source": [
        "<a href=\"https://colab.research.google.com/github/VyomaD/kdm_tech/blob/main/ICP_lab8/source/KDM_ICP_8.ipynb\" target=\"_parent\"><img src=\"https://colab.research.google.com/assets/colab-badge.svg\" alt=\"Open In Colab\"/></a>"
      ]
    },
    {
      "cell_type": "code",
      "metadata": {
        "colab": {
          "base_uri": "https://localhost:8080/"
        },
        "id": "ZEWPGa-swQYm",
        "outputId": "cab836d8-46e7-4caa-d32e-732cfab66b6f"
      },
      "source": [
        "# Install stanza, Installing and importing Stanza are as simple as running the following commands. \n",
        "!pip install stanza\n",
        "\n",
        "# Import stanza\n",
        "import stanza"
      ],
      "execution_count": null,
      "outputs": [
        {
          "output_type": "stream",
          "text": [
            "Collecting stanza\n",
            "\u001b[?25l  Downloading https://files.pythonhosted.org/packages/50/ae/a70a58ce6b4e2daad538688806ee0f238dbe601954582a74ea57cde6c532/stanza-1.2-py3-none-any.whl (282kB)\n",
            "\r\u001b[K     |█▏                              | 10kB 17.3MB/s eta 0:00:01\r\u001b[K     |██▎                             | 20kB 11.7MB/s eta 0:00:01\r\u001b[K     |███▌                            | 30kB 9.0MB/s eta 0:00:01\r\u001b[K     |████▋                           | 40kB 8.2MB/s eta 0:00:01\r\u001b[K     |█████▉                          | 51kB 5.1MB/s eta 0:00:01\r\u001b[K     |███████                         | 61kB 5.0MB/s eta 0:00:01\r\u001b[K     |████████▏                       | 71kB 5.5MB/s eta 0:00:01\r\u001b[K     |█████████▎                      | 81kB 6.0MB/s eta 0:00:01\r\u001b[K     |██████████▌                     | 92kB 5.9MB/s eta 0:00:01\r\u001b[K     |███████████▋                    | 102kB 6.3MB/s eta 0:00:01\r\u001b[K     |████████████▉                   | 112kB 6.3MB/s eta 0:00:01\r\u001b[K     |██████████████                  | 122kB 6.3MB/s eta 0:00:01\r\u001b[K     |███████████████                 | 133kB 6.3MB/s eta 0:00:01\r\u001b[K     |████████████████▎               | 143kB 6.3MB/s eta 0:00:01\r\u001b[K     |█████████████████▍              | 153kB 6.3MB/s eta 0:00:01\r\u001b[K     |██████████████████▋             | 163kB 6.3MB/s eta 0:00:01\r\u001b[K     |███████████████████▊            | 174kB 6.3MB/s eta 0:00:01\r\u001b[K     |█████████████████████           | 184kB 6.3MB/s eta 0:00:01\r\u001b[K     |██████████████████████          | 194kB 6.3MB/s eta 0:00:01\r\u001b[K     |███████████████████████▎        | 204kB 6.3MB/s eta 0:00:01\r\u001b[K     |████████████████████████▍       | 215kB 6.3MB/s eta 0:00:01\r\u001b[K     |█████████████████████████▋      | 225kB 6.3MB/s eta 0:00:01\r\u001b[K     |██████████████████████████▊     | 235kB 6.3MB/s eta 0:00:01\r\u001b[K     |███████████████████████████▉    | 245kB 6.3MB/s eta 0:00:01\r\u001b[K     |█████████████████████████████   | 256kB 6.3MB/s eta 0:00:01\r\u001b[K     |██████████████████████████████▏ | 266kB 6.3MB/s eta 0:00:01\r\u001b[K     |███████████████████████████████▍| 276kB 6.3MB/s eta 0:00:01\r\u001b[K     |████████████████████████████████| 286kB 6.3MB/s \n",
            "\u001b[?25hRequirement already satisfied: torch>=1.3.0 in /usr/local/lib/python3.7/dist-packages (from stanza) (1.8.0+cu101)\n",
            "Requirement already satisfied: numpy in /usr/local/lib/python3.7/dist-packages (from stanza) (1.19.5)\n",
            "Requirement already satisfied: requests in /usr/local/lib/python3.7/dist-packages (from stanza) (2.23.0)\n",
            "Requirement already satisfied: tqdm in /usr/local/lib/python3.7/dist-packages (from stanza) (4.41.1)\n",
            "Requirement already satisfied: protobuf in /usr/local/lib/python3.7/dist-packages (from stanza) (3.12.4)\n",
            "Requirement already satisfied: typing-extensions in /usr/local/lib/python3.7/dist-packages (from torch>=1.3.0->stanza) (3.7.4.3)\n",
            "Requirement already satisfied: urllib3!=1.25.0,!=1.25.1,<1.26,>=1.21.1 in /usr/local/lib/python3.7/dist-packages (from requests->stanza) (1.24.3)\n",
            "Requirement already satisfied: certifi>=2017.4.17 in /usr/local/lib/python3.7/dist-packages (from requests->stanza) (2020.12.5)\n",
            "Requirement already satisfied: chardet<4,>=3.0.2 in /usr/local/lib/python3.7/dist-packages (from requests->stanza) (3.0.4)\n",
            "Requirement already satisfied: idna<3,>=2.5 in /usr/local/lib/python3.7/dist-packages (from requests->stanza) (2.10)\n",
            "Requirement already satisfied: six>=1.9 in /usr/local/lib/python3.7/dist-packages (from protobuf->stanza) (1.15.0)\n",
            "Requirement already satisfied: setuptools in /usr/local/lib/python3.7/dist-packages (from protobuf->stanza) (54.0.0)\n",
            "Installing collected packages: stanza\n",
            "Successfully installed stanza-1.2\n"
          ],
          "name": "stdout"
        }
      ]
    },
    {
      "cell_type": "code",
      "metadata": {
        "colab": {
          "base_uri": "https://localhost:8080/"
        },
        "id": "RiLXyvKTKR1a",
        "outputId": "cbddfc6c-5e42-422d-88db-99ffa7d9b1b1"
      },
      "source": [
        "# Download the Stanford CoreNLP package with Stanza's installation command\n",
        "# This'll take several minutes, depending on the network speed\n",
        "corenlp_dir = './corenlp'\n",
        "stanza.install_corenlp(dir=corenlp_dir)\n",
        "\n",
        "# Set the CORENLP_HOME environment variable to point to the installation location\n",
        "import os\n",
        "os.environ[\"CORENLP_HOME\"] = corenlp_dir"
      ],
      "execution_count": null,
      "outputs": [
        {
          "output_type": "stream",
          "text": [
            "2021-03-15 18:32:28 INFO: Installing CoreNLP package into ./corenlp...\n",
            "Downloading http://nlp.stanford.edu/software/stanford-corenlp-latest.zip: 100%|██████████| 505M/505M [02:01<00:00, 4.17MB/s]\n",
            "2021-03-15 18:34:31 WARNING: For customized installation location, please set the `CORENLP_HOME` environment variable to the location of the installation. In Unix, this is done with `export CORENLP_HOME=./corenlp`.\n"
          ],
          "name": "stderr"
        }
      ]
    },
    {
      "cell_type": "code",
      "metadata": {
        "colab": {
          "base_uri": "https://localhost:8080/"
        },
        "id": "HcSrVvl3K226",
        "outputId": "6dbed6b9-617e-44de-b739-51eb9d8bc2a9"
      },
      "source": [
        "import stanza\n",
        "# Import client module\n",
        "from stanza.server import CoreNLPClient\n",
        "\n",
        "client = CoreNLPClient(timeout=150000000, be_quiet=True, annotators=['openie'], \n",
        "endpoint='http://localhost:9001')\n",
        "client.start()\n",
        "import time\n",
        "time.sleep(10)"
      ],
      "execution_count": null,
      "outputs": [
        {
          "output_type": "stream",
          "text": [
            "2021-03-15 18:34:58 INFO: Writing properties to tmp file: corenlp_server-5c1012018f714120.props\n",
            "2021-03-15 18:34:58 INFO: Starting server with command: java -Xmx5G -cp ./corenlp/* edu.stanford.nlp.pipeline.StanfordCoreNLPServer -port 9001 -timeout 150000000 -threads 5 -maxCharLength 100000 -quiet True -serverProperties corenlp_server-5c1012018f714120.props -annotators openie -preload -outputFormat serialized\n"
          ],
          "name": "stderr"
        }
      ]
    },
    {
      "cell_type": "code",
      "metadata": {
        "colab": {
          "base_uri": "https://localhost:8080/"
        },
        "id": "N-RGLmdgKXMj",
        "outputId": "59f1e85e-18f4-4522-cc33-c71454476311"
      },
      "source": [
        "import json # run triple extraction \n",
        "# upload the givne article text to extract triplets\n",
        "txtArticle1 = \"NewsArticle1\"\n",
        "# open article file and convert them into readable format\n",
        "txt = open(txtArticle1, \"r\")\n",
        "text = txt.read()\n",
        "#extracting triples form text file\n",
        "document = client.annotate(text, output_format='json') # converting the text into output format json\n",
        "triples = [] # creating empty dictionary list of triples\n",
        "for sentence in document['sentences']:\n",
        "    for triple in sentence['openie']: # using openie extract triples\n",
        "        triples.append({ ## append them into triples dictornary\n",
        "           'subject': triple['subject'],\n",
        "           'relation': triple['relation'],\n",
        "            'object': triple['object']\n",
        "        })\n",
        "print(triples)\n"
      ],
      "execution_count": 79,
      "outputs": [
        {
          "output_type": "stream",
          "text": [
            "[{'subject': 'universal bacterial detection', 'relation': 'assumption of is', 'object': 'foundation'}, {'subject': 'universal detection', 'relation': 'assumption of is', 'object': 'foundation'}, {'subject': 'assumption', 'relation': 'is foundation of', 'object': 'immunology'}, {'subject': 'bacterial detection', 'relation': 'assumption of is', 'object': 'foundation'}, {'subject': 'near universal bacterial detection', 'relation': 'assumption of is', 'object': 'foundation'}, {'subject': 'assumption', 'relation': 'is', 'object': 'foundation'}, {'subject': 'detection', 'relation': 'assumption of is', 'object': 'foundation'}, {'subject': 'near universal detection', 'relation': 'assumption of is', 'object': 'foundation'}, {'subject': 'limits', 'relation': 'remain', 'object': 'undefined'}, {'subject': 'limits', 'relation': 'however remain', 'object': 'undefined'}, {'subject': 'we', 'relation': 'determined As', 'object': 'test of hypothesis'}, {'subject': 'we', 'relation': 'determined As', 'object': 'test'}, {'subject': 'mammalian cells', 'relation': 'recognize', 'object': 'bacteria'}, {'subject': 'they', 'relation': 'had', 'object': 'opportunity'}, {'subject': 'cells', 'relation': 'recognize', 'object': 'bacteria'}, {'subject': 'they', 'relation': 'had', 'object': 'natural opportunity'}, {'subject': 'genus Moritella', 'relation': 'was identified as', 'object': 'common constituent of culturable microbiota'}, {'subject': 'genus Moritella', 'relation': 'was identified as', 'object': 'constituent of culturable microbiota'}, {'subject': 'genus Moritella', 'relation': 'was', 'object': 'where identified as common constituent of culturable microbiota'}, {'subject': 'bacteria', 'relation': 'were cultivated from', 'object': 'deep Pacific Ocean'}, {'subject': 'genus Moritella', 'relation': 'was identified as', 'object': 'common constituent of microbiota'}, {'subject': 'genus Moritella', 'relation': 'was', 'object': 'identified'}, {'subject': 'bacteria', 'relation': 'were', 'object': 'cultivated'}, {'subject': 'genus Moritella', 'relation': 'was identified as', 'object': 'constituent of microbiota'}, {'subject': 'genus Moritella', 'relation': 'was', 'object': 'where identified'}, {'subject': 'genus Moritella', 'relation': 'was', 'object': 'where identified as constituent of culturable microbiota'}, {'subject': 'genus Moritella', 'relation': 'was identified as', 'object': 'constituent'}, {'subject': 'genus Moritella', 'relation': 'was', 'object': 'where identified as common constituent of microbiota'}, {'subject': 'bacteria', 'relation': 'were cultivated from', 'object': 'Pacific Ocean'}, {'subject': 'genus Moritella', 'relation': 'was', 'object': 'where identified as constituent'}, {'subject': 'genus Moritella', 'relation': 'was identified as', 'object': 'common constituent'}, {'subject': 'genus Moritella', 'relation': 'was', 'object': 'where identified as constituent of microbiota'}, {'subject': 'genus Moritella', 'relation': 'was', 'object': 'where identified as common constituent'}, {'subject': 'deep sea bacteria', 'relation': 'inflammatory responses from', 'object': 'mammalian LPS receptors'}, {'subject': 'sea bacteria', 'relation': 'inflammatory responses from', 'object': 'LPS receptors'}, {'subject': 'deep sea bacteria', 'relation': 'contained', 'object': 'cell wall lipopolysaccharide structures'}, {'subject': 'sea bacteria', 'relation': 'activated', 'object': 'inflammatory responses'}, {'subject': 'deep sea bacteria', 'relation': 'activated', 'object': 'responses from mammalian LPS receptors'}, {'subject': 'deep sea bacteria', 'relation': 'activated', 'object': 'inflammatory responses from mammalian LPS receptors'}, {'subject': 'sea bacteria', 'relation': 'responses from', 'object': 'LPS receptors'}, {'subject': 'sea bacteria', 'relation': 'activated', 'object': 'inflammatory responses from LPS receptors'}, {'subject': 'deep sea bacteria', 'relation': 'responses from', 'object': 'mammalian LPS receptors'}, {'subject': 'sea bacteria', 'relation': 'activated', 'object': 'inflammatory responses from mammalian LPS receptors'}, {'subject': 'sea bacteria', 'relation': 'activated', 'object': 'responses from mammalian LPS receptors'}, {'subject': 'deep sea bacteria', 'relation': 'activated', 'object': 'inflammatory responses from LPS receptors'}, {'subject': 'sea bacteria', 'relation': 'activated', 'object': 'responses'}, {'subject': 'sea bacteria', 'relation': 'inflammatory responses from', 'object': 'mammalian LPS receptors'}, {'subject': 'sea bacteria', 'relation': 'responses from', 'object': 'mammalian LPS receptors'}, {'subject': 'sea bacteria', 'relation': 'activated', 'object': 'responses from LPS receptors'}, {'subject': 'deep sea bacteria', 'relation': 'activated', 'object': 'inflammatory responses'}, {'subject': 'deep sea bacteria', 'relation': 'inflammatory responses from', 'object': 'LPS receptors'}, {'subject': 'deep sea bacteria', 'relation': 'activated', 'object': 'responses from LPS receptors'}, {'subject': 'deep sea bacteria', 'relation': 'activated', 'object': 'responses'}, {'subject': 'deep sea bacteria', 'relation': 'responses from', 'object': 'LPS receptors'}, {'subject': 'Most deep sea bacteria', 'relation': 'contained', 'object': 'cell wall lipopolysaccharide structures'}, {'subject': 'LPS acyl chain length', 'relation': 'being', 'object': 'with identified'}, {'subject': 'LPS acyl chain length', 'relation': 'being identified as', 'object': 'potential determinant of immunosilence'}, {'subject': 'LPS acyl chain length', 'relation': 'being identified as', 'object': 'potential determinant'}, {'subject': 'LPS receptors', 'relation': 'were', 'object': 'However unable'}, {'subject': 'LPS acyl chain length', 'relation': 'being', 'object': 'with identified as potential determinant of immunosilence'}, {'subject': 'LPS receptors', 'relation': 'were', 'object': 'unable'}, {'subject': 'LPS acyl chain length', 'relation': 'being', 'object': 'identified'}, {'subject': 'LPS acyl chain length', 'relation': 'being', 'object': 'with identified as potential determinant'}, {'subject': 'inability', 'relation': 'detect', 'object': 'bacteria'}, {'subject': 'pattern recognition strategies', 'relation': 'be', 'object': 'defined locally'}, {'subject': 'inability', 'relation': 'detect', 'object': 'most bacteria'}, {'subject': 'inability', 'relation': 'detect bacteria from', 'object': 'different ecosystem'}, {'subject': 'pattern recognition strategies', 'relation': 'be', 'object': 'defined locally globally'}, {'subject': 'pattern recognition strategies', 'relation': 'be', 'object': 'defined'}, {'subject': 'inability', 'relation': 'detect bacteria from', 'object': 'ecosystem'}, {'subject': 'pattern recognition strategies', 'relation': 'be', 'object': 'defined not globally'}, {'subject': 'pattern recognition strategies', 'relation': 'be', 'object': 'defined locally not globally'}, {'subject': 'pattern recognition strategies', 'relation': 'be', 'object': 'defined globally'}]\n"
          ],
          "name": "stdout"
        }
      ]
    },
    {
      "cell_type": "code",
      "metadata": {
        "colab": {
          "base_uri": "https://localhost:8080/"
        },
        "id": "L1XATg-JLVXW",
        "outputId": "5a622cd9-781a-491d-936b-5382075cb6af"
      },
      "source": [
        "import json # run triple extraction \n",
        "# upload the givne article text to extract triplets\n",
        "txtArticle2 = \"NewsArticle2\"\n",
        "# open article file and convert them into readable format\n",
        "txt = open(txtArticle2, \"r\")\n",
        "text = txt.read()\n",
        "#extracting triples form text file\n",
        "document = client.annotate(text, output_format='json') # converting the text into output format json\n",
        "triples = [] # creating empty dictionary list of triples\n",
        "for sentence in document['sentences']:\n",
        "    for triple in sentence['openie']: # using openie extract triples\n",
        "        triples.append({ ## append them into triples dictornary\n",
        "           'subject': triple['subject'],\n",
        "           'relation': triple['relation'],\n",
        "            'object': triple['object']\n",
        "        })\n",
        "print(triples1)"
      ],
      "execution_count": 80,
      "outputs": [
        {
          "output_type": "stream",
          "text": [
            "[{'subject': 'term diversity', 'relation': 'can mean', 'object': 'different things'}, {'subject': 'term diversity', 'relation': 'can mean', 'object': 'things'}, {'subject': 'Diversity', 'relation': 'can refer to', 'object': 'heterogeneity'}, {'subject': 'We', 'relation': 'use', 'object': 'conjoint experiment'}, {'subject': 'diversity', 'relation': 'is', 'object': 'strongly associated'}, {'subject': 'perceived diversity', 'relation': 'is', 'object': 'strongly associated'}, {'subject': 'perceived diversity', 'relation': 'is', 'object': 'associated'}, {'subject': 'diversity', 'relation': 'is associated with', 'object': 'heterogeneity'}, {'subject': 'perceived diversity', 'relation': 'is strongly associated with', 'object': 'heterogeneity'}, {'subject': 'diversity', 'relation': 'is', 'object': 'associated'}, {'subject': 'perceived diversity', 'relation': 'is associated with', 'object': 'heterogeneity'}, {'subject': 'diversity', 'relation': 'is strongly associated with', 'object': 'heterogeneity'}, {'subject': 'association', 'relation': 'is', 'object': 'stronger for Whites than for Blacks'}, {'subject': 'association', 'relation': 'is stronger than', 'object': 'than Blacks'}, {'subject': 'association', 'relation': 'is', 'object': 'stronger'}, {'subject': 'association', 'relation': 'is stronger for', 'object': 'Whites'}, {'subject': 'their own group', 'relation': 'is largest as', 'object': 'diverse'}, {'subject': 'Blacks', 'relation': 'view neighborhoods In', 'object': 'addition'}, {'subject': 'their own group', 'relation': 'is', 'object': 'where largest'}, {'subject': 'Asians', 'relation': 'view neighborhoods In', 'object': 'addition'}, {'subject': 'their group', 'relation': 'is', 'object': 'where largest'}, {'subject': 'their group', 'relation': 'is largest as', 'object': 'more diverse'}, {'subject': 'Latinos', 'relation': 'view', 'object': 'neighborhoods'}, {'subject': 'their own group', 'relation': 'is', 'object': 'largest'}, {'subject': 'Latinos', 'relation': 'view neighborhoods In', 'object': 'addition'}, {'subject': 'their group', 'relation': 'is largest as', 'object': 'diverse'}, {'subject': 'their own group', 'relation': 'is largest as', 'object': 'more diverse'}, {'subject': 'their group', 'relation': 'is', 'object': 'largest'}, {'subject': 'Blacks', 'relation': 'view', 'object': 'neighborhoods'}, {'subject': 'Asians', 'relation': 'view', 'object': 'neighborhoods'}, {'subject': 'Whites', 'relation': 'view neighborhoods as', 'object': 'more diverse than predominately Black neighborhoods'}, {'subject': 'Whites', 'relation': 'view neighborhoods as', 'object': 'diverse than Black neighborhoods'}, {'subject': 'Whites', 'relation': 'view neighborhoods as', 'object': 'more diverse than Black neighborhoods'}, {'subject': 'Whites', 'relation': 'view neighborhoods as', 'object': 'diverse'}, {'subject': 'Whites', 'relation': 'view neighborhoods as', 'object': 'diverse than neighborhoods'}, {'subject': 'Whites', 'relation': 'view neighborhoods as', 'object': 'diverse than predominately neighborhoods'}, {'subject': 'Whites', 'relation': 'view', 'object': 'White neighborhoods'}, {'subject': 'Whites', 'relation': 'view neighborhoods as', 'object': 'more diverse'}, {'subject': 'Whites', 'relation': 'view neighborhoods as', 'object': 'more diverse than neighborhoods'}, {'subject': 'Whites', 'relation': 'view neighborhoods as', 'object': 'more diverse than predominately neighborhoods'}, {'subject': 'Whites', 'relation': 'view', 'object': 'neighborhoods'}, {'subject': 'Whites', 'relation': 'view neighborhoods as', 'object': 'diverse than predominately Black neighborhoods'}, {'subject': 'Whites', 'relation': 'view', 'object': 'predominately White neighborhoods'}, {'subject': 'diversity', 'relation': 'disagreeing', 'object': 'on what makes'}, {'subject': 'diversity', 'relation': 'is', 'object': 'desirable'}, {'subject': 'diversity', 'relation': 'is desirable', 'object': 'disagreeing'}, {'subject': 'diversity', 'relation': 'disagreeing', 'object': 'what makes'}, {'subject': 'diversity', 'relation': 'is desirable', 'object': 'while disagreeing'}]\n"
          ],
          "name": "stdout"
        }
      ]
    },
    {
      "cell_type": "code",
      "metadata": {
        "colab": {
          "base_uri": "https://localhost:8080/"
        },
        "id": "FavtWtTufHbN",
        "outputId": "f1ef9de8-56db-40a3-9533-01f803abddfe"
      },
      "source": [
        "import json # run triple extraction \n",
        "# upload the givne article text to extract triplets\n",
        "txtArticle3 = \"NewsArticle3\"\n",
        "# open article file and convert them into readable format\n",
        "txt = open(txtArticle3, \"r\")\n",
        "text = txt.read()\n",
        "#extracting triples form text file\n",
        "document = client.annotate(text, output_format='json') # converting the text into output format json\n",
        "triples = [] # creating empty dictionary list of triples\n",
        "for sentence in document['sentences']:\n",
        "    for triple in sentence['openie']: # using openie extract triples\n",
        "        triples.append({ ## append them into triples dictornary\n",
        "           'subject': triple['subject'],\n",
        "           'relation': triple['relation'],\n",
        "            'object': triple['object']\n",
        "        })\n",
        "print(triples2)"
      ],
      "execution_count": 81,
      "outputs": [
        {
          "output_type": "stream",
          "text": [
            "[{'subject': 'prevention', 'relation': 'requires', 'object': 'exercises'}, {'subject': 'prevention', 'relation': 'requires', 'object': 'frequent exercises'}, {'subject': 'prevention', 'relation': 'requires', 'object': 'exercises of neck'}, {'subject': 'prevention', 'relation': 'requires', 'object': 'frequent exercises of neck'}, {'subject': 'available wearable healthcare sensors', 'relation': 'are', 'object': 'rigid'}, {'subject': 'available wearable healthcare sensors', 'relation': 'are', 'object': 'However rigid'}, {'subject': 'most available wearable healthcare sensors', 'relation': 'are', 'object': 'rigid'}, {'subject': 'most available wearable healthcare sensors', 'relation': 'are', 'object': 'However rigid'}, {'subject': 'we', 'relation': 'propose', 'object': 'piezoelectric network sensor'}, {'subject': 'we', 'relation': 'propose', 'object': 'highly anisotropic network composite sensor'}, {'subject': 'we', 'relation': 'propose', 'object': 'structured piezoelectric network sensor'}, {'subject': 'we', 'relation': 'propose', 'object': 'structured piezoelectric network composite sensor'}, {'subject': 'we', 'relation': 'propose', 'object': 'anisotropic piezoelectric network sensor'}, {'subject': 'we', 'relation': 'propose', 'object': 'kirigami structured piezoelectric network composite sensor'}, {'subject': 'we', 'relation': 'propose', 'object': 'kirigami structured highly anisotropic network composite sensor'}, {'subject': 'we', 'relation': 'propose', 'object': 'network sensor'}, {'subject': 'we', 'relation': 'propose', 'object': 'anisotropic network sensor'}, {'subject': 'we', 'relation': 'propose', 'object': 'structured anisotropic network composite sensor'}, {'subject': 'we', 'relation': 'propose', 'object': 'anisotropic network composite sensor'}, {'subject': 'we', 'relation': 'propose', 'object': 'highly anisotropic piezoelectric network composite sensor'}, {'subject': 'we', 'relation': 'propose', 'object': 'kirigami structured network composite sensor'}, {'subject': 'we', 'relation': 'propose', 'object': 'structured highly anisotropic network composite sensor'}, {'subject': 'we', 'relation': 'propose', 'object': 'anisotropic piezoelectric network composite sensor'}, {'subject': 'we', 'relation': 'propose', 'object': 'network composite sensor'}, {'subject': 'we', 'relation': 'propose', 'object': 'kirigami structured anisotropic piezoelectric network sensor'}, {'subject': 'we', 'relation': 'propose', 'object': 'structured anisotropic piezoelectric network sensor'}, {'subject': 'we', 'relation': 'propose', 'object': 'kirigami structured highly anisotropic piezoelectric network composite sensor'}, {'subject': 'we', 'relation': 'propose', 'object': 'structured network sensor'}, {'subject': 'we', 'relation': 'propose', 'object': 'structured anisotropic network sensor'}, {'subject': 'we', 'relation': 'propose', 'object': 'kirigami structured highly anisotropic network sensor'}, {'subject': 'we', 'relation': 'propose', 'object': 'kirigami structured piezoelectric network sensor'}, {'subject': 'we', 'relation': 'propose', 'object': 'highly anisotropic network sensor'}, {'subject': 'we', 'relation': 'propose', 'object': 'structured network composite sensor'}, {'subject': 'we', 'relation': 'propose', 'object': 'structured highly anisotropic piezoelectric network sensor'}, {'subject': 'we', 'relation': 'propose', 'object': 'structured anisotropic piezoelectric network composite sensor'}, {'subject': 'we', 'relation': 'propose', 'object': 'structured highly anisotropic network sensor'}, {'subject': 'we', 'relation': 'propose', 'object': 'kirigami structured anisotropic network composite sensor'}, {'subject': 'we', 'relation': 'propose', 'object': 'kirigami structured highly anisotropic piezoelectric network sensor'}, {'subject': 'we', 'relation': 'propose', 'object': 'kirigami structured anisotropic piezoelectric network composite sensor'}, {'subject': 'we', 'relation': 'propose', 'object': 'structured highly anisotropic piezoelectric network composite sensor'}, {'subject': 'we', 'relation': 'propose', 'object': 'highly anisotropic piezoelectric network sensor'}, {'subject': 'we', 'relation': 'propose', 'object': 'kirigami structured network sensor'}, {'subject': 'we', 'relation': 'propose', 'object': 'piezoelectric network composite sensor'}, {'subject': 'we', 'relation': 'propose', 'object': 'kirigami structured anisotropic network sensor'}]\n"
          ],
          "name": "stdout"
        }
      ]
    }
  ]
}
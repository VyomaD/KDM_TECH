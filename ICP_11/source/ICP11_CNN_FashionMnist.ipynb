{
  "nbformat": 4,
  "nbformat_minor": 0,
  "metadata": {
    "colab": {
      "name": "ICP11-CNN-FashionMnist.ipynb",
      "provenance": [],
      "authorship_tag": "ABX9TyOEsG5Th5nUWDbsfJTNc4KJ",
      "include_colab_link": true
    },
    "kernelspec": {
      "name": "python3",
      "display_name": "Python 3"
    },
    "language_info": {
      "name": "python"
    }
  },
  "cells": [
    {
      "cell_type": "markdown",
      "metadata": {
        "id": "view-in-github",
        "colab_type": "text"
      },
      "source": [
        "<a href=\"https://colab.research.google.com/github/VyomaD/kdm_tech/blob/main/ICP_11/source/ICP11_CNN_FashionMnist.ipynb\" target=\"_parent\"><img src=\"https://colab.research.google.com/assets/colab-badge.svg\" alt=\"Open In Colab\"/></a>"
      ]
    },
    {
      "cell_type": "code",
      "metadata": {
        "id": "nvWQqE5SO3HB"
      },
      "source": [
        "import numpy as np\n",
        "import tensorflow as tf\n",
        "from keras.datasets import fashion_mnist\n",
        "from keras.models import Sequential\n",
        "from keras.layers import Conv2D, MaxPooling2D, Dense, Flatten\n",
        "from keras.utils import to_categorical"
      ],
      "execution_count": 36,
      "outputs": []
    },
    {
      "cell_type": "code",
      "metadata": {
        "colab": {
          "base_uri": "https://localhost:8080/"
        },
        "id": "D5O8UpRUO8X0",
        "outputId": "6192205c-c97d-44c4-c564-0005cc6552cd"
      },
      "source": [
        "(train_images, train_labels), (test_images, test_labels) = fashion_mnist.load_data()"
      ],
      "execution_count": 37,
      "outputs": [
        {
          "output_type": "stream",
          "text": [
            "Downloading data from https://storage.googleapis.com/tensorflow/tf-keras-datasets/train-labels-idx1-ubyte.gz\n",
            "32768/29515 [=================================] - 0s 0us/step\n",
            "Downloading data from https://storage.googleapis.com/tensorflow/tf-keras-datasets/train-images-idx3-ubyte.gz\n",
            "26427392/26421880 [==============================] - 0s 0us/step\n",
            "Downloading data from https://storage.googleapis.com/tensorflow/tf-keras-datasets/t10k-labels-idx1-ubyte.gz\n",
            "8192/5148 [===============================================] - 0s 0us/step\n",
            "Downloading data from https://storage.googleapis.com/tensorflow/tf-keras-datasets/t10k-images-idx3-ubyte.gz\n",
            "4423680/4422102 [==============================] - 0s 0us/step\n"
          ],
          "name": "stdout"
        }
      ]
    },
    {
      "cell_type": "code",
      "metadata": {
        "id": "RvP0KmS1O-Wu"
      },
      "source": [
        "# Normalize the images.\n",
        "train_images = (train_images / 255) - 0.5\n",
        "test_images = (test_images / 255) - 0.5"
      ],
      "execution_count": 38,
      "outputs": []
    },
    {
      "cell_type": "code",
      "metadata": {
        "id": "-_6IPylkPAFC"
      },
      "source": [
        "# Reshape the images.\n",
        "train_images = np.expand_dims(train_images, axis=3)\n",
        "test_images = np.expand_dims(test_images, axis=3)"
      ],
      "execution_count": 39,
      "outputs": []
    },
    {
      "cell_type": "code",
      "metadata": {
        "colab": {
          "base_uri": "https://localhost:8080/"
        },
        "id": "lnqOoWg8QNkT",
        "outputId": "5ace059b-0776-4e73-c224-e313645dc384"
      },
      "source": [
        "# train_images = train_images.reshape((60000, 28, 28, 1))\n",
        "# test_images = test_images.reshape((10000, 28, 28, 1))\n",
        "print(train_images.shape)\n",
        "print(test_images.shape)"
      ],
      "execution_count": 40,
      "outputs": [
        {
          "output_type": "stream",
          "text": [
            "(60000, 28, 28, 1)\n",
            "(10000, 28, 28, 1)\n"
          ],
          "name": "stdout"
        }
      ]
    },
    {
      "cell_type": "code",
      "metadata": {
        "id": "RQcCqRbYPCWa"
      },
      "source": [
        "num_filters = 8\n",
        "filter_size = 3\n",
        "pool_size = 2"
      ],
      "execution_count": 41,
      "outputs": []
    },
    {
      "cell_type": "code",
      "metadata": {
        "id": "298zspfhPFSt"
      },
      "source": [
        "# Build the model.\n",
        "model = Sequential([\n",
        "  Conv2D(num_filters, filter_size, input_shape=(28, 28, 1)),\n",
        "  MaxPooling2D(pool_size=pool_size),\n",
        "  Flatten(),\n",
        "  Dense(10, activation='softmax'),\n",
        "])"
      ],
      "execution_count": 42,
      "outputs": []
    },
    {
      "cell_type": "code",
      "metadata": {
        "id": "ncXnBFmERMKl"
      },
      "source": [
        "# model_2 = models.Sequential()\n",
        "# model_2.add(layers.Conv2D(32, (3, 3), activation='relu', input_shape=(28, 28, 1)))\n",
        "# model_2.add(layers.MaxPooling2D((2, 2)))\n",
        "# model_2.add(layers.Conv2D(64, (3, 3), activation='relu'))\n",
        "# model_2.add(layers.MaxPooling2D((2, 2)))\n",
        "# model_2.add(layers.Conv2D(64, (3, 3), activation='relu'))"
      ],
      "execution_count": 43,
      "outputs": []
    },
    {
      "cell_type": "code",
      "metadata": {
        "id": "VCInQD12Rldo"
      },
      "source": [
        "# model_2.summary()\n"
      ],
      "execution_count": 44,
      "outputs": []
    },
    {
      "cell_type": "code",
      "metadata": {
        "id": "QFPM08TzRp1R"
      },
      "source": [
        "# model_2.add(layers.Flatten())\n",
        "# model_2.add(layers.Dense(64, activation='relu'))\n",
        "# model_2.add(layers.Dropout(0.5))\n",
        "# model_2.add(layers.Dense(10, activation='softmax'))"
      ],
      "execution_count": 45,
      "outputs": []
    },
    {
      "cell_type": "code",
      "metadata": {
        "id": "8rL1yR-XRqTv"
      },
      "source": [
        "# model_2.summary()\n"
      ],
      "execution_count": 46,
      "outputs": []
    },
    {
      "cell_type": "code",
      "metadata": {
        "id": "yaxORzP7PH7R"
      },
      "source": [
        "# Compile the model.\n",
        "model.compile(\n",
        "  'adam',\n",
        "  loss='categorical_crossentropy',\n",
        "  metrics=['accuracy'],\n",
        ")"
      ],
      "execution_count": 47,
      "outputs": []
    },
    {
      "cell_type": "code",
      "metadata": {
        "colab": {
          "base_uri": "https://localhost:8080/"
        },
        "id": "tSEE_l85PKGe",
        "outputId": "3e65b8ad-0d1a-4e95-e7b8-487ae06ec872"
      },
      "source": [
        "# Train the model.\n",
        "model.fit(\n",
        "  train_images,\n",
        "  to_categorical(train_labels),\n",
        "  epochs=100,\n",
        "  validation_data=(test_images, to_categorical(test_labels)),\n",
        ")"
      ],
      "execution_count": 49,
      "outputs": [
        {
          "output_type": "stream",
          "text": [
            "Epoch 1/100\n",
            "1875/1875 [==============================] - 16s 8ms/step - loss: 0.2146 - accuracy: 0.9233 - val_loss: 0.3372 - val_accuracy: 0.8885\n",
            "Epoch 2/100\n",
            "1875/1875 [==============================] - 16s 9ms/step - loss: 0.2141 - accuracy: 0.9229 - val_loss: 0.3312 - val_accuracy: 0.8883\n",
            "Epoch 3/100\n",
            "1875/1875 [==============================] - 16s 9ms/step - loss: 0.2132 - accuracy: 0.9238 - val_loss: 0.3396 - val_accuracy: 0.8854\n",
            "Epoch 4/100\n",
            "1875/1875 [==============================] - 16s 9ms/step - loss: 0.2120 - accuracy: 0.9256 - val_loss: 0.3356 - val_accuracy: 0.8861\n",
            "Epoch 5/100\n",
            "1875/1875 [==============================] - 16s 9ms/step - loss: 0.2109 - accuracy: 0.9249 - val_loss: 0.3346 - val_accuracy: 0.8890\n",
            "Epoch 6/100\n",
            "1875/1875 [==============================] - 16s 9ms/step - loss: 0.2082 - accuracy: 0.9255 - val_loss: 0.3461 - val_accuracy: 0.8840\n",
            "Epoch 7/100\n",
            "1875/1875 [==============================] - 16s 9ms/step - loss: 0.2089 - accuracy: 0.9246 - val_loss: 0.3451 - val_accuracy: 0.8890\n",
            "Epoch 8/100\n",
            "1875/1875 [==============================] - 16s 9ms/step - loss: 0.2076 - accuracy: 0.9253 - val_loss: 0.3418 - val_accuracy: 0.8877\n",
            "Epoch 9/100\n",
            "1875/1875 [==============================] - 16s 9ms/step - loss: 0.2061 - accuracy: 0.9258 - val_loss: 0.3501 - val_accuracy: 0.8837\n",
            "Epoch 10/100\n",
            "1875/1875 [==============================] - 16s 9ms/step - loss: 0.2048 - accuracy: 0.9265 - val_loss: 0.3465 - val_accuracy: 0.8851\n",
            "Epoch 11/100\n",
            "1875/1875 [==============================] - 16s 9ms/step - loss: 0.2046 - accuracy: 0.9263 - val_loss: 0.3562 - val_accuracy: 0.8844\n",
            "Epoch 12/100\n",
            "1875/1875 [==============================] - 16s 9ms/step - loss: 0.2039 - accuracy: 0.9274 - val_loss: 0.3469 - val_accuracy: 0.8872\n",
            "Epoch 13/100\n",
            "1875/1875 [==============================] - 16s 9ms/step - loss: 0.2030 - accuracy: 0.9268 - val_loss: 0.3458 - val_accuracy: 0.8884\n",
            "Epoch 14/100\n",
            "1875/1875 [==============================] - 16s 9ms/step - loss: 0.2024 - accuracy: 0.9271 - val_loss: 0.3520 - val_accuracy: 0.8868\n",
            "Epoch 15/100\n",
            "1875/1875 [==============================] - 16s 9ms/step - loss: 0.2019 - accuracy: 0.9272 - val_loss: 0.3648 - val_accuracy: 0.8797\n",
            "Epoch 16/100\n",
            "1875/1875 [==============================] - 16s 9ms/step - loss: 0.2003 - accuracy: 0.9286 - val_loss: 0.3558 - val_accuracy: 0.8846\n",
            "Epoch 17/100\n",
            "1875/1875 [==============================] - 16s 9ms/step - loss: 0.1994 - accuracy: 0.9289 - val_loss: 0.3553 - val_accuracy: 0.8853\n",
            "Epoch 18/100\n",
            "1875/1875 [==============================] - 16s 9ms/step - loss: 0.1997 - accuracy: 0.9280 - val_loss: 0.3521 - val_accuracy: 0.8845\n",
            "Epoch 19/100\n",
            "1875/1875 [==============================] - 16s 9ms/step - loss: 0.1978 - accuracy: 0.9299 - val_loss: 0.3582 - val_accuracy: 0.8863\n",
            "Epoch 20/100\n",
            "1875/1875 [==============================] - 16s 9ms/step - loss: 0.1980 - accuracy: 0.9296 - val_loss: 0.3555 - val_accuracy: 0.8901\n",
            "Epoch 21/100\n",
            "1875/1875 [==============================] - 17s 9ms/step - loss: 0.1979 - accuracy: 0.9286 - val_loss: 0.3583 - val_accuracy: 0.8843\n",
            "Epoch 22/100\n",
            "1875/1875 [==============================] - 16s 9ms/step - loss: 0.1968 - accuracy: 0.9290 - val_loss: 0.3645 - val_accuracy: 0.8856\n",
            "Epoch 23/100\n",
            "1875/1875 [==============================] - 16s 9ms/step - loss: 0.1958 - accuracy: 0.9293 - val_loss: 0.3651 - val_accuracy: 0.8839\n",
            "Epoch 24/100\n",
            "1875/1875 [==============================] - 16s 9ms/step - loss: 0.1952 - accuracy: 0.9296 - val_loss: 0.3575 - val_accuracy: 0.8854\n",
            "Epoch 25/100\n",
            "1875/1875 [==============================] - 17s 9ms/step - loss: 0.1958 - accuracy: 0.9299 - val_loss: 0.3635 - val_accuracy: 0.8865\n",
            "Epoch 26/100\n",
            "1875/1875 [==============================] - 17s 9ms/step - loss: 0.1949 - accuracy: 0.9301 - val_loss: 0.3626 - val_accuracy: 0.8844\n",
            "Epoch 27/100\n",
            "1875/1875 [==============================] - 17s 9ms/step - loss: 0.1940 - accuracy: 0.9303 - val_loss: 0.3655 - val_accuracy: 0.8869\n",
            "Epoch 28/100\n",
            "1875/1875 [==============================] - 17s 9ms/step - loss: 0.1938 - accuracy: 0.9305 - val_loss: 0.3777 - val_accuracy: 0.8850\n",
            "Epoch 29/100\n",
            "1875/1875 [==============================] - 17s 9ms/step - loss: 0.1930 - accuracy: 0.9302 - val_loss: 0.3670 - val_accuracy: 0.8863\n",
            "Epoch 30/100\n",
            "1875/1875 [==============================] - 16s 9ms/step - loss: 0.1923 - accuracy: 0.9313 - val_loss: 0.3688 - val_accuracy: 0.8848\n",
            "Epoch 31/100\n",
            "1875/1875 [==============================] - 17s 9ms/step - loss: 0.1918 - accuracy: 0.9310 - val_loss: 0.3762 - val_accuracy: 0.8839\n",
            "Epoch 32/100\n",
            "1875/1875 [==============================] - 17s 9ms/step - loss: 0.1919 - accuracy: 0.9301 - val_loss: 0.3754 - val_accuracy: 0.8826\n",
            "Epoch 33/100\n",
            "1875/1875 [==============================] - 17s 9ms/step - loss: 0.1911 - accuracy: 0.9321 - val_loss: 0.3702 - val_accuracy: 0.8855\n",
            "Epoch 34/100\n",
            "1875/1875 [==============================] - 17s 9ms/step - loss: 0.1910 - accuracy: 0.9313 - val_loss: 0.3799 - val_accuracy: 0.8834\n",
            "Epoch 35/100\n",
            "1875/1875 [==============================] - 17s 9ms/step - loss: 0.1905 - accuracy: 0.9320 - val_loss: 0.3770 - val_accuracy: 0.8850\n",
            "Epoch 36/100\n",
            "1875/1875 [==============================] - 17s 9ms/step - loss: 0.1898 - accuracy: 0.9319 - val_loss: 0.3768 - val_accuracy: 0.8848\n",
            "Epoch 37/100\n",
            "1875/1875 [==============================] - 17s 9ms/step - loss: 0.1896 - accuracy: 0.9318 - val_loss: 0.3848 - val_accuracy: 0.8837\n",
            "Epoch 38/100\n",
            "1875/1875 [==============================] - 16s 9ms/step - loss: 0.1899 - accuracy: 0.9314 - val_loss: 0.3793 - val_accuracy: 0.8851\n",
            "Epoch 39/100\n",
            "1875/1875 [==============================] - 17s 9ms/step - loss: 0.1896 - accuracy: 0.9320 - val_loss: 0.3797 - val_accuracy: 0.8844\n",
            "Epoch 40/100\n",
            "1875/1875 [==============================] - 17s 9ms/step - loss: 0.1887 - accuracy: 0.9320 - val_loss: 0.3895 - val_accuracy: 0.8811\n",
            "Epoch 41/100\n",
            "1875/1875 [==============================] - 17s 9ms/step - loss: 0.1891 - accuracy: 0.9327 - val_loss: 0.3847 - val_accuracy: 0.8848\n",
            "Epoch 42/100\n",
            "1875/1875 [==============================] - 17s 9ms/step - loss: 0.1875 - accuracy: 0.9326 - val_loss: 0.3929 - val_accuracy: 0.8808\n",
            "Epoch 43/100\n",
            "1875/1875 [==============================] - 17s 9ms/step - loss: 0.1875 - accuracy: 0.9334 - val_loss: 0.3906 - val_accuracy: 0.8844\n",
            "Epoch 44/100\n",
            "1875/1875 [==============================] - 17s 9ms/step - loss: 0.1871 - accuracy: 0.9322 - val_loss: 0.3921 - val_accuracy: 0.8812\n",
            "Epoch 45/100\n",
            "1875/1875 [==============================] - 17s 9ms/step - loss: 0.1864 - accuracy: 0.9343 - val_loss: 0.3898 - val_accuracy: 0.8858\n",
            "Epoch 46/100\n",
            "1875/1875 [==============================] - 17s 9ms/step - loss: 0.1861 - accuracy: 0.9324 - val_loss: 0.3891 - val_accuracy: 0.8843\n",
            "Epoch 47/100\n",
            "1875/1875 [==============================] - 17s 9ms/step - loss: 0.1868 - accuracy: 0.9328 - val_loss: 0.3926 - val_accuracy: 0.8806\n",
            "Epoch 48/100\n",
            "1875/1875 [==============================] - 17s 9ms/step - loss: 0.1860 - accuracy: 0.9333 - val_loss: 0.3964 - val_accuracy: 0.8833\n",
            "Epoch 49/100\n",
            "1875/1875 [==============================] - 17s 9ms/step - loss: 0.1854 - accuracy: 0.9326 - val_loss: 0.4028 - val_accuracy: 0.8799\n",
            "Epoch 50/100\n",
            "1875/1875 [==============================] - 17s 9ms/step - loss: 0.1850 - accuracy: 0.9338 - val_loss: 0.3910 - val_accuracy: 0.8852\n",
            "Epoch 51/100\n",
            "1875/1875 [==============================] - 17s 9ms/step - loss: 0.1850 - accuracy: 0.9323 - val_loss: 0.3944 - val_accuracy: 0.8837\n",
            "Epoch 52/100\n",
            "1875/1875 [==============================] - 17s 9ms/step - loss: 0.1854 - accuracy: 0.9329 - val_loss: 0.3953 - val_accuracy: 0.8853\n",
            "Epoch 53/100\n",
            "1875/1875 [==============================] - 17s 9ms/step - loss: 0.1849 - accuracy: 0.9334 - val_loss: 0.3933 - val_accuracy: 0.8850\n",
            "Epoch 54/100\n",
            "1875/1875 [==============================] - 17s 9ms/step - loss: 0.1852 - accuracy: 0.9334 - val_loss: 0.3921 - val_accuracy: 0.8844\n",
            "Epoch 55/100\n",
            "1875/1875 [==============================] - 17s 9ms/step - loss: 0.1833 - accuracy: 0.9345 - val_loss: 0.4040 - val_accuracy: 0.8811\n",
            "Epoch 56/100\n",
            "1875/1875 [==============================] - 17s 9ms/step - loss: 0.1835 - accuracy: 0.9333 - val_loss: 0.3964 - val_accuracy: 0.8830\n",
            "Epoch 57/100\n",
            "1875/1875 [==============================] - 17s 9ms/step - loss: 0.1835 - accuracy: 0.9334 - val_loss: 0.3946 - val_accuracy: 0.8849\n",
            "Epoch 58/100\n",
            "1875/1875 [==============================] - 17s 9ms/step - loss: 0.1832 - accuracy: 0.9353 - val_loss: 0.4013 - val_accuracy: 0.8816\n",
            "Epoch 59/100\n",
            "1875/1875 [==============================] - 17s 9ms/step - loss: 0.1830 - accuracy: 0.9341 - val_loss: 0.3944 - val_accuracy: 0.8851\n",
            "Epoch 60/100\n",
            "1875/1875 [==============================] - 17s 9ms/step - loss: 0.1834 - accuracy: 0.9344 - val_loss: 0.3990 - val_accuracy: 0.8849\n",
            "Epoch 61/100\n",
            "1875/1875 [==============================] - 17s 9ms/step - loss: 0.1828 - accuracy: 0.9331 - val_loss: 0.4015 - val_accuracy: 0.8837\n",
            "Epoch 62/100\n",
            "1875/1875 [==============================] - 17s 9ms/step - loss: 0.1824 - accuracy: 0.9344 - val_loss: 0.4011 - val_accuracy: 0.8839\n",
            "Epoch 63/100\n",
            "1875/1875 [==============================] - 17s 9ms/step - loss: 0.1819 - accuracy: 0.9341 - val_loss: 0.4166 - val_accuracy: 0.8792\n",
            "Epoch 64/100\n",
            "1875/1875 [==============================] - 17s 9ms/step - loss: 0.1816 - accuracy: 0.9347 - val_loss: 0.4043 - val_accuracy: 0.8814\n",
            "Epoch 65/100\n",
            "1875/1875 [==============================] - 17s 9ms/step - loss: 0.1814 - accuracy: 0.9348 - val_loss: 0.4087 - val_accuracy: 0.8849\n",
            "Epoch 66/100\n",
            "1875/1875 [==============================] - 17s 9ms/step - loss: 0.1815 - accuracy: 0.9351 - val_loss: 0.4081 - val_accuracy: 0.8822\n",
            "Epoch 67/100\n",
            "1875/1875 [==============================] - 17s 9ms/step - loss: 0.1810 - accuracy: 0.9349 - val_loss: 0.4054 - val_accuracy: 0.8851\n",
            "Epoch 68/100\n",
            "1875/1875 [==============================] - 17s 9ms/step - loss: 0.1815 - accuracy: 0.9338 - val_loss: 0.4047 - val_accuracy: 0.8856\n",
            "Epoch 69/100\n",
            "1875/1875 [==============================] - 17s 9ms/step - loss: 0.1800 - accuracy: 0.9353 - val_loss: 0.4048 - val_accuracy: 0.8842\n",
            "Epoch 70/100\n",
            "1875/1875 [==============================] - 17s 9ms/step - loss: 0.1805 - accuracy: 0.9350 - val_loss: 0.4150 - val_accuracy: 0.8815\n",
            "Epoch 71/100\n",
            "1875/1875 [==============================] - 17s 9ms/step - loss: 0.1808 - accuracy: 0.9347 - val_loss: 0.4183 - val_accuracy: 0.8772\n",
            "Epoch 72/100\n",
            "1875/1875 [==============================] - 17s 9ms/step - loss: 0.1807 - accuracy: 0.9348 - val_loss: 0.4138 - val_accuracy: 0.8822\n",
            "Epoch 73/100\n",
            "1875/1875 [==============================] - 17s 9ms/step - loss: 0.1799 - accuracy: 0.9351 - val_loss: 0.4167 - val_accuracy: 0.8802\n",
            "Epoch 74/100\n",
            "1875/1875 [==============================] - 17s 9ms/step - loss: 0.1795 - accuracy: 0.9360 - val_loss: 0.4218 - val_accuracy: 0.8800\n",
            "Epoch 75/100\n",
            "1875/1875 [==============================] - 17s 9ms/step - loss: 0.1790 - accuracy: 0.9353 - val_loss: 0.4136 - val_accuracy: 0.8825\n",
            "Epoch 76/100\n",
            "1875/1875 [==============================] - 17s 9ms/step - loss: 0.1798 - accuracy: 0.9348 - val_loss: 0.4142 - val_accuracy: 0.8824\n",
            "Epoch 77/100\n",
            "1875/1875 [==============================] - 17s 9ms/step - loss: 0.1786 - accuracy: 0.9355 - val_loss: 0.4204 - val_accuracy: 0.8808\n",
            "Epoch 78/100\n",
            "1875/1875 [==============================] - 17s 9ms/step - loss: 0.1786 - accuracy: 0.9353 - val_loss: 0.4135 - val_accuracy: 0.8825\n",
            "Epoch 79/100\n",
            "1875/1875 [==============================] - 17s 9ms/step - loss: 0.1791 - accuracy: 0.9354 - val_loss: 0.4257 - val_accuracy: 0.8776\n",
            "Epoch 80/100\n",
            "1875/1875 [==============================] - 17s 9ms/step - loss: 0.1787 - accuracy: 0.9353 - val_loss: 0.4112 - val_accuracy: 0.8857\n",
            "Epoch 81/100\n",
            "1875/1875 [==============================] - 17s 9ms/step - loss: 0.1785 - accuracy: 0.9354 - val_loss: 0.4212 - val_accuracy: 0.8804\n",
            "Epoch 82/100\n",
            "1875/1875 [==============================] - 17s 9ms/step - loss: 0.1789 - accuracy: 0.9349 - val_loss: 0.4167 - val_accuracy: 0.8837\n",
            "Epoch 83/100\n",
            "1875/1875 [==============================] - 17s 9ms/step - loss: 0.1780 - accuracy: 0.9360 - val_loss: 0.4165 - val_accuracy: 0.8826\n",
            "Epoch 84/100\n",
            "1875/1875 [==============================] - 17s 9ms/step - loss: 0.1779 - accuracy: 0.9353 - val_loss: 0.4273 - val_accuracy: 0.8798\n",
            "Epoch 85/100\n",
            "1875/1875 [==============================] - 17s 9ms/step - loss: 0.1776 - accuracy: 0.9357 - val_loss: 0.4211 - val_accuracy: 0.8816\n",
            "Epoch 86/100\n",
            "1875/1875 [==============================] - 17s 9ms/step - loss: 0.1775 - accuracy: 0.9363 - val_loss: 0.4237 - val_accuracy: 0.8806\n",
            "Epoch 87/100\n",
            "1875/1875 [==============================] - 17s 9ms/step - loss: 0.1769 - accuracy: 0.9368 - val_loss: 0.4265 - val_accuracy: 0.8794\n",
            "Epoch 88/100\n",
            "1875/1875 [==============================] - 17s 9ms/step - loss: 0.1781 - accuracy: 0.9359 - val_loss: 0.4190 - val_accuracy: 0.8831\n",
            "Epoch 89/100\n",
            "1875/1875 [==============================] - 17s 9ms/step - loss: 0.1767 - accuracy: 0.9363 - val_loss: 0.4232 - val_accuracy: 0.8813\n",
            "Epoch 90/100\n",
            "1875/1875 [==============================] - 17s 9ms/step - loss: 0.1772 - accuracy: 0.9366 - val_loss: 0.4290 - val_accuracy: 0.8797\n",
            "Epoch 91/100\n",
            "1875/1875 [==============================] - 17s 9ms/step - loss: 0.1763 - accuracy: 0.9364 - val_loss: 0.4243 - val_accuracy: 0.8818\n",
            "Epoch 92/100\n",
            "1875/1875 [==============================] - 17s 9ms/step - loss: 0.1764 - accuracy: 0.9366 - val_loss: 0.4360 - val_accuracy: 0.8782\n",
            "Epoch 93/100\n",
            "1875/1875 [==============================] - 17s 9ms/step - loss: 0.1766 - accuracy: 0.9370 - val_loss: 0.4328 - val_accuracy: 0.8779\n",
            "Epoch 94/100\n",
            "1875/1875 [==============================] - 17s 9ms/step - loss: 0.1761 - accuracy: 0.9368 - val_loss: 0.4313 - val_accuracy: 0.8809\n",
            "Epoch 95/100\n",
            "1875/1875 [==============================] - 17s 9ms/step - loss: 0.1767 - accuracy: 0.9362 - val_loss: 0.4239 - val_accuracy: 0.8807\n",
            "Epoch 96/100\n",
            "1875/1875 [==============================] - 17s 9ms/step - loss: 0.1755 - accuracy: 0.9374 - val_loss: 0.4311 - val_accuracy: 0.8806\n",
            "Epoch 97/100\n",
            "1875/1875 [==============================] - 17s 9ms/step - loss: 0.1761 - accuracy: 0.9365 - val_loss: 0.4403 - val_accuracy: 0.8781\n",
            "Epoch 98/100\n",
            "1875/1875 [==============================] - 17s 9ms/step - loss: 0.1761 - accuracy: 0.9379 - val_loss: 0.4300 - val_accuracy: 0.8781\n",
            "Epoch 99/100\n",
            "1875/1875 [==============================] - 17s 9ms/step - loss: 0.1757 - accuracy: 0.9372 - val_loss: 0.4363 - val_accuracy: 0.8805\n",
            "Epoch 100/100\n",
            "1875/1875 [==============================] - 17s 9ms/step - loss: 0.1755 - accuracy: 0.9366 - val_loss: 0.4353 - val_accuracy: 0.8821\n"
          ],
          "name": "stdout"
        },
        {
          "output_type": "execute_result",
          "data": {
            "text/plain": [
              "<tensorflow.python.keras.callbacks.History at 0x7f9d86830750>"
            ]
          },
          "metadata": {
            "tags": []
          },
          "execution_count": 49
        }
      ]
    },
    {
      "cell_type": "code",
      "metadata": {
        "id": "v23DJzwgPMhu"
      },
      "source": [
        "# Predict on the first 5 test images.\n",
        "predictions = model.predict(test_images[:5])"
      ],
      "execution_count": 51,
      "outputs": []
    },
    {
      "cell_type": "code",
      "metadata": {
        "colab": {
          "base_uri": "https://localhost:8080/"
        },
        "id": "4bvJo5fzPOZz",
        "outputId": "74d63e37-7019-4660-e049-008ca0997fa4"
      },
      "source": [
        "# Print our model's predictions.\n",
        "print(\"These are the model predictions :\")\n",
        "print(np.argmax(predictions, axis=1)) # [7, 2, 1, 0, 4]\n",
        "print(\"\\n\")"
      ],
      "execution_count": 52,
      "outputs": [
        {
          "output_type": "stream",
          "text": [
            "These are the model predictions :\n",
            "[9 2 1 1 6]\n",
            "\n",
            "\n"
          ],
          "name": "stdout"
        }
      ]
    },
    {
      "cell_type": "code",
      "metadata": {
        "colab": {
          "base_uri": "https://localhost:8080/"
        },
        "id": "XxYLuty2PQCK",
        "outputId": "85f56196-67c7-441c-f1e6-41bd49369107"
      },
      "source": [
        "# Check our predictions against the ground truths.\n",
        "print(\"These are the corresponding labels :\")\n",
        "print(test_labels[:5]) # [7, 2, 1, 0, 4]"
      ],
      "execution_count": 53,
      "outputs": [
        {
          "output_type": "stream",
          "text": [
            "These are the corresponding labels :\n",
            "[9 2 1 1 6]\n"
          ],
          "name": "stdout"
        }
      ]
    },
    {
      "cell_type": "code",
      "metadata": {
        "colab": {
          "base_uri": "https://localhost:8080/",
          "height": 295
        },
        "id": "umbhW7y5lTMt",
        "outputId": "6c4dbde1-295b-4f34-c029-6f5e46110cc7"
      },
      "source": [
        "from matplotlib import pyplot as plt\n",
        "\n",
        "plt.figure(figsize=(20, 4))\n",
        "for i in range(5):\n",
        "    # original\n",
        "    plt.subplot(1, 5, i + 1)\n",
        "    plt.imshow(test_images[i].reshape(28, 28))\n",
        "    plt.gray()\n",
        "    plt.axis('off')\n",
        " \n",
        "plt.tight_layout()\n",
        "plt.show()"
      ],
      "execution_count": 58,
      "outputs": [
        {
          "output_type": "display_data",
          "data": {
            "image/png": "[encoded data removed]",
            "text/plain": [
              "<Figure size 1440x288 with 5 Axes>"
            ]
          },
          "metadata": {
            "tags": [],
            "needs_background": "light"
          }
        }
      ]
    }
  ]
}
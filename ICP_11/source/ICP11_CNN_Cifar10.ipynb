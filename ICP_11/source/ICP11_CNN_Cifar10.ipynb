{
  "nbformat": 4,
  "nbformat_minor": 0,
  "metadata": {
    "colab": {
      "name": "ICP11-CNN-Cifar10.ipynb",
      "provenance": [],
      "collapsed_sections": [],
      "authorship_tag": "ABX9TyMSEBeYzKXKtikWdwC/3t3y",
      "include_colab_link": true
    },
    "kernelspec": {
      "name": "python3",
      "display_name": "Python 3"
    },
    "language_info": {
      "name": "python"
    }
  },
  "cells": [
    {
      "cell_type": "markdown",
      "metadata": {
        "id": "view-in-github",
        "colab_type": "text"
      },
      "source": [
        "<a href=\"https://colab.research.google.com/github/VyomaD/kdm_tech/blob/main/ICP_11/source/ICP11_CNN_Cifar10.ipynb\" target=\"_parent\"><img src=\"https://colab.research.google.com/assets/colab-badge.svg\" alt=\"Open In Colab\"/></a>"
      ]
    },
    {
      "cell_type": "code",
      "metadata": {
        "id": "jN7GXYrZnTGJ"
      },
      "source": [
        "import numpy as np\n",
        "import tensorflow as tf\n",
        "from keras.datasets import cifar10\n",
        "from keras.models import Sequential\n",
        "from keras.layers import Conv2D, MaxPooling2D, Dense, Flatten\n",
        "from keras.utils import to_categorical"
      ],
      "execution_count": 18,
      "outputs": []
    },
    {
      "cell_type": "code",
      "metadata": {
        "id": "-xG3i_r2nWML"
      },
      "source": [
        "(train_images, train_labels), (test_images, test_labels) = cifar10.load_data()"
      ],
      "execution_count": 25,
      "outputs": []
    },
    {
      "cell_type": "code",
      "metadata": {
        "id": "81LG8OxfnYEw"
      },
      "source": [
        "# Normalize the images.\n",
        "train_images = (train_images / 255) - 0.5\n",
        "test_images = (test_images / 255) - 0.5"
      ],
      "execution_count": 26,
      "outputs": []
    },
    {
      "cell_type": "code",
      "metadata": {
        "id": "QJYCm1ghnYgt"
      },
      "source": [
        "# # Reshape the images.\n",
        "# train_images = np.expand_dims(train_images, axis=3)\n",
        "# test_images = np.expand_dims(test_images, axis=3)"
      ],
      "execution_count": 21,
      "outputs": []
    },
    {
      "cell_type": "code",
      "metadata": {
        "colab": {
          "base_uri": "https://localhost:8080/"
        },
        "id": "puGmQAMAnad4",
        "outputId": "46353946-d1ff-4c94-cfab-9cbd8b896cf9"
      },
      "source": [
        "# train_images = train_images.reshape((60000, 28, 28, 1))\n",
        "# test_images = test_images.reshape((10000, 28, 28, 1))\n",
        "print(train_images.shape)\n",
        "print(test_images.shape)"
      ],
      "execution_count": 27,
      "outputs": [
        {
          "output_type": "stream",
          "text": [
            "(50000, 32, 32, 3)\n",
            "(10000, 32, 32, 3)\n"
          ],
          "name": "stdout"
        }
      ]
    },
    {
      "cell_type": "code",
      "metadata": {
        "id": "hLdzJXuFncTB"
      },
      "source": [
        "num_filters = 8\n",
        "filter_size = 3\n",
        "pool_size = 2"
      ],
      "execution_count": 28,
      "outputs": []
    },
    {
      "cell_type": "code",
      "metadata": {
        "id": "ht-mL4JcnePp"
      },
      "source": [
        "# Build the model.\n",
        "model = Sequential([\n",
        "  Conv2D(num_filters, filter_size, input_shape=(32, 32, 3)),\n",
        "  MaxPooling2D(pool_size=pool_size),\n",
        "  Flatten(),\n",
        "  Dense(10, activation='softmax'),\n",
        "])"
      ],
      "execution_count": 32,
      "outputs": []
    },
    {
      "cell_type": "code",
      "metadata": {
        "id": "uzGbeboingbk"
      },
      "source": [
        "# Compile the model.\n",
        "model.compile(\n",
        "  'adam',\n",
        "  loss='categorical_crossentropy',\n",
        "  metrics=['accuracy'],\n",
        ")"
      ],
      "execution_count": 33,
      "outputs": []
    },
    {
      "cell_type": "code",
      "metadata": {
        "colab": {
          "base_uri": "https://localhost:8080/"
        },
        "id": "8NajQ0H9ni6R",
        "outputId": "c0ed75b9-810d-4598-828f-c421c01d9595"
      },
      "source": [
        "# Train the model.\n",
        "model.fit(\n",
        "  train_images,\n",
        "  to_categorical(train_labels),\n",
        "  epochs=100,\n",
        "  validation_data=(test_images, to_categorical(test_labels)),\n",
        ")"
      ],
      "execution_count": 34,
      "outputs": [
        {
          "output_type": "stream",
          "text": [
            "Epoch 1/100\n",
            "1563/1563 [==============================] - 24s 15ms/step - loss: 1.7736 - accuracy: 0.3829 - val_loss: 1.4391 - val_accuracy: 0.4994\n",
            "Epoch 2/100\n",
            "1563/1563 [==============================] - 22s 14ms/step - loss: 1.3834 - accuracy: 0.5229 - val_loss: 1.3521 - val_accuracy: 0.5292\n",
            "Epoch 3/100\n",
            "1563/1563 [==============================] - 23s 14ms/step - loss: 1.2880 - accuracy: 0.5562 - val_loss: 1.2945 - val_accuracy: 0.5542\n",
            "Epoch 4/100\n",
            "1563/1563 [==============================] - 23s 15ms/step - loss: 1.2402 - accuracy: 0.5747 - val_loss: 1.2666 - val_accuracy: 0.5630\n",
            "Epoch 5/100\n",
            "1563/1563 [==============================] - 23s 14ms/step - loss: 1.1948 - accuracy: 0.5885 - val_loss: 1.2554 - val_accuracy: 0.5653\n",
            "Epoch 6/100\n",
            "1563/1563 [==============================] - 23s 15ms/step - loss: 1.1662 - accuracy: 0.6026 - val_loss: 1.2449 - val_accuracy: 0.5704\n",
            "Epoch 7/100\n",
            "1563/1563 [==============================] - 23s 15ms/step - loss: 1.1428 - accuracy: 0.6083 - val_loss: 1.2373 - val_accuracy: 0.5655\n",
            "Epoch 8/100\n",
            "1563/1563 [==============================] - 22s 14ms/step - loss: 1.1171 - accuracy: 0.6191 - val_loss: 1.2188 - val_accuracy: 0.5779\n",
            "Epoch 9/100\n",
            "1563/1563 [==============================] - 22s 14ms/step - loss: 1.0945 - accuracy: 0.6267 - val_loss: 1.2353 - val_accuracy: 0.5799\n",
            "Epoch 10/100\n",
            "1563/1563 [==============================] - 29s 19ms/step - loss: 1.0805 - accuracy: 0.6285 - val_loss: 1.2010 - val_accuracy: 0.5854\n",
            "Epoch 11/100\n",
            "1563/1563 [==============================] - 33s 21ms/step - loss: 1.0689 - accuracy: 0.6385 - val_loss: 1.1982 - val_accuracy: 0.5899\n",
            "Epoch 12/100\n",
            "1563/1563 [==============================] - 35s 22ms/step - loss: 1.0546 - accuracy: 0.6391 - val_loss: 1.2143 - val_accuracy: 0.5828\n",
            "Epoch 13/100\n",
            "1563/1563 [==============================] - 38s 24ms/step - loss: 1.0585 - accuracy: 0.6377 - val_loss: 1.2571 - val_accuracy: 0.5765\n",
            "Epoch 14/100\n",
            "1563/1563 [==============================] - 37s 23ms/step - loss: 1.0459 - accuracy: 0.6415 - val_loss: 1.2017 - val_accuracy: 0.5863\n",
            "Epoch 15/100\n",
            "1563/1563 [==============================] - 35s 23ms/step - loss: 1.0367 - accuracy: 0.6462 - val_loss: 1.1999 - val_accuracy: 0.5875\n",
            "Epoch 16/100\n",
            "1563/1563 [==============================] - 27s 17ms/step - loss: 1.0115 - accuracy: 0.6570 - val_loss: 1.2048 - val_accuracy: 0.5865\n",
            "Epoch 17/100\n",
            "1563/1563 [==============================] - 26s 17ms/step - loss: 1.0150 - accuracy: 0.6541 - val_loss: 1.1973 - val_accuracy: 0.5917\n",
            "Epoch 18/100\n",
            "1563/1563 [==============================] - 32s 20ms/step - loss: 1.0165 - accuracy: 0.6537 - val_loss: 1.1959 - val_accuracy: 0.5887\n",
            "Epoch 19/100\n",
            "1563/1563 [==============================] - 25s 16ms/step - loss: 1.0142 - accuracy: 0.6529 - val_loss: 1.1980 - val_accuracy: 0.5923\n",
            "Epoch 20/100\n",
            "1563/1563 [==============================] - 27s 17ms/step - loss: 1.0007 - accuracy: 0.6598 - val_loss: 1.2023 - val_accuracy: 0.5934\n",
            "Epoch 21/100\n",
            "1563/1563 [==============================] - 28s 18ms/step - loss: 1.0032 - accuracy: 0.6560 - val_loss: 1.2056 - val_accuracy: 0.5849\n",
            "Epoch 22/100\n",
            "1563/1563 [==============================] - 31s 20ms/step - loss: 1.0041 - accuracy: 0.6580 - val_loss: 1.2030 - val_accuracy: 0.5918\n",
            "Epoch 23/100\n",
            "1563/1563 [==============================] - 29s 19ms/step - loss: 0.9849 - accuracy: 0.6635 - val_loss: 1.2035 - val_accuracy: 0.5913\n",
            "Epoch 24/100\n",
            "1563/1563 [==============================] - 29s 19ms/step - loss: 0.9854 - accuracy: 0.6634 - val_loss: 1.2030 - val_accuracy: 0.5906\n",
            "Epoch 25/100\n",
            "1563/1563 [==============================] - 29s 18ms/step - loss: 0.9949 - accuracy: 0.6606 - val_loss: 1.2017 - val_accuracy: 0.5924\n",
            "Epoch 26/100\n",
            "1563/1563 [==============================] - 28s 18ms/step - loss: 0.9796 - accuracy: 0.6708 - val_loss: 1.2003 - val_accuracy: 0.5918\n",
            "Epoch 27/100\n",
            "1563/1563 [==============================] - 23s 15ms/step - loss: 0.9782 - accuracy: 0.6657 - val_loss: 1.2090 - val_accuracy: 0.5901\n",
            "Epoch 28/100\n",
            "1563/1563 [==============================] - 23s 15ms/step - loss: 0.9733 - accuracy: 0.6662 - val_loss: 1.2121 - val_accuracy: 0.5932\n",
            "Epoch 29/100\n",
            "1563/1563 [==============================] - 22s 14ms/step - loss: 0.9794 - accuracy: 0.6653 - val_loss: 1.2118 - val_accuracy: 0.5915\n",
            "Epoch 30/100\n",
            "1563/1563 [==============================] - 23s 15ms/step - loss: 0.9698 - accuracy: 0.6677 - val_loss: 1.2193 - val_accuracy: 0.5894\n",
            "Epoch 31/100\n",
            "1563/1563 [==============================] - 23s 14ms/step - loss: 0.9743 - accuracy: 0.6692 - val_loss: 1.2117 - val_accuracy: 0.5873\n",
            "Epoch 32/100\n",
            "1563/1563 [==============================] - 22s 14ms/step - loss: 0.9642 - accuracy: 0.6725 - val_loss: 1.2187 - val_accuracy: 0.5899\n",
            "Epoch 33/100\n",
            "1563/1563 [==============================] - 23s 15ms/step - loss: 0.9711 - accuracy: 0.6665 - val_loss: 1.2172 - val_accuracy: 0.5937\n",
            "Epoch 34/100\n",
            "1563/1563 [==============================] - 23s 15ms/step - loss: 0.9696 - accuracy: 0.6688 - val_loss: 1.2107 - val_accuracy: 0.5921\n",
            "Epoch 35/100\n",
            "1563/1563 [==============================] - 23s 15ms/step - loss: 0.9697 - accuracy: 0.6673 - val_loss: 1.2226 - val_accuracy: 0.5910\n",
            "Epoch 36/100\n",
            "1563/1563 [==============================] - 23s 15ms/step - loss: 0.9715 - accuracy: 0.6671 - val_loss: 1.2290 - val_accuracy: 0.5898\n",
            "Epoch 37/100\n",
            "1563/1563 [==============================] - 23s 15ms/step - loss: 0.9584 - accuracy: 0.6683 - val_loss: 1.2157 - val_accuracy: 0.5911\n",
            "Epoch 38/100\n",
            "1563/1563 [==============================] - 27s 18ms/step - loss: 0.9607 - accuracy: 0.6720 - val_loss: 1.2250 - val_accuracy: 0.5891\n",
            "Epoch 39/100\n",
            "1563/1563 [==============================] - 28s 18ms/step - loss: 0.9603 - accuracy: 0.6715 - val_loss: 1.2269 - val_accuracy: 0.5903\n",
            "Epoch 40/100\n",
            "1563/1563 [==============================] - 29s 19ms/step - loss: 0.9610 - accuracy: 0.6696 - val_loss: 1.2371 - val_accuracy: 0.5837\n",
            "Epoch 41/100\n",
            "1563/1563 [==============================] - 30s 19ms/step - loss: 0.9609 - accuracy: 0.6724 - val_loss: 1.2206 - val_accuracy: 0.5937\n",
            "Epoch 42/100\n",
            "1563/1563 [==============================] - 27s 18ms/step - loss: 0.9574 - accuracy: 0.6732 - val_loss: 1.2369 - val_accuracy: 0.5926\n",
            "Epoch 43/100\n",
            "1563/1563 [==============================] - 28s 18ms/step - loss: 0.9555 - accuracy: 0.6732 - val_loss: 1.2416 - val_accuracy: 0.5849\n",
            "Epoch 44/100\n",
            "1563/1563 [==============================] - 27s 17ms/step - loss: 0.9467 - accuracy: 0.6756 - val_loss: 1.2328 - val_accuracy: 0.5830\n",
            "Epoch 45/100\n",
            "1563/1563 [==============================] - 28s 18ms/step - loss: 0.9501 - accuracy: 0.6739 - val_loss: 1.2257 - val_accuracy: 0.5896\n",
            "Epoch 46/100\n",
            "1563/1563 [==============================] - 28s 18ms/step - loss: 0.9570 - accuracy: 0.6744 - val_loss: 1.2400 - val_accuracy: 0.5878\n",
            "Epoch 47/100\n",
            "1563/1563 [==============================] - 27s 17ms/step - loss: 0.9556 - accuracy: 0.6754 - val_loss: 1.2661 - val_accuracy: 0.5839\n",
            "Epoch 48/100\n",
            "1563/1563 [==============================] - 25s 16ms/step - loss: 0.9574 - accuracy: 0.6745 - val_loss: 1.2506 - val_accuracy: 0.5835\n",
            "Epoch 49/100\n",
            "1563/1563 [==============================] - 25s 16ms/step - loss: 0.9579 - accuracy: 0.6731 - val_loss: 1.2312 - val_accuracy: 0.5922\n",
            "Epoch 50/100\n",
            "1563/1563 [==============================] - 24s 16ms/step - loss: 0.9485 - accuracy: 0.6744 - val_loss: 1.2374 - val_accuracy: 0.5897\n",
            "Epoch 51/100\n",
            "1563/1563 [==============================] - 25s 16ms/step - loss: 0.9508 - accuracy: 0.6707 - val_loss: 1.2443 - val_accuracy: 0.5861\n",
            "Epoch 52/100\n",
            "1563/1563 [==============================] - 24s 15ms/step - loss: 0.9442 - accuracy: 0.6767 - val_loss: 1.2381 - val_accuracy: 0.5905\n",
            "Epoch 53/100\n",
            "1563/1563 [==============================] - 24s 16ms/step - loss: 0.9495 - accuracy: 0.6742 - val_loss: 1.2362 - val_accuracy: 0.5875\n",
            "Epoch 54/100\n",
            "1563/1563 [==============================] - 23s 15ms/step - loss: 0.9425 - accuracy: 0.6756 - val_loss: 1.2394 - val_accuracy: 0.5904\n",
            "Epoch 55/100\n",
            "1563/1563 [==============================] - 23s 14ms/step - loss: 0.9457 - accuracy: 0.6780 - val_loss: 1.2395 - val_accuracy: 0.5913\n",
            "Epoch 56/100\n",
            "1563/1563 [==============================] - 22s 14ms/step - loss: 0.9354 - accuracy: 0.6792 - val_loss: 1.2447 - val_accuracy: 0.5849\n",
            "Epoch 57/100\n",
            "1563/1563 [==============================] - 22s 14ms/step - loss: 0.9418 - accuracy: 0.6789 - val_loss: 1.2586 - val_accuracy: 0.5909\n",
            "Epoch 58/100\n",
            "1563/1563 [==============================] - 23s 14ms/step - loss: 0.9432 - accuracy: 0.6747 - val_loss: 1.2596 - val_accuracy: 0.5813\n",
            "Epoch 59/100\n",
            "1563/1563 [==============================] - 24s 15ms/step - loss: 0.9508 - accuracy: 0.6742 - val_loss: 1.2547 - val_accuracy: 0.5859\n",
            "Epoch 60/100\n",
            "1563/1563 [==============================] - 23s 14ms/step - loss: 0.9514 - accuracy: 0.6733 - val_loss: 1.2846 - val_accuracy: 0.5772\n",
            "Epoch 61/100\n",
            "1563/1563 [==============================] - 22s 14ms/step - loss: 0.9416 - accuracy: 0.6770 - val_loss: 1.2605 - val_accuracy: 0.5808\n",
            "Epoch 62/100\n",
            "1563/1563 [==============================] - 22s 14ms/step - loss: 0.9396 - accuracy: 0.6800 - val_loss: 1.2512 - val_accuracy: 0.5815\n",
            "Epoch 63/100\n",
            "1563/1563 [==============================] - 22s 14ms/step - loss: 0.9411 - accuracy: 0.6789 - val_loss: 1.2520 - val_accuracy: 0.5842\n",
            "Epoch 64/100\n",
            "1563/1563 [==============================] - 22s 14ms/step - loss: 0.9312 - accuracy: 0.6824 - val_loss: 1.2510 - val_accuracy: 0.5905\n",
            "Epoch 65/100\n",
            "1563/1563 [==============================] - 22s 14ms/step - loss: 0.9371 - accuracy: 0.6805 - val_loss: 1.2583 - val_accuracy: 0.5857\n",
            "Epoch 66/100\n",
            "1563/1563 [==============================] - 22s 14ms/step - loss: 0.9340 - accuracy: 0.6788 - val_loss: 1.2591 - val_accuracy: 0.5902\n",
            "Epoch 67/100\n",
            "1563/1563 [==============================] - 22s 14ms/step - loss: 0.9458 - accuracy: 0.6782 - val_loss: 1.2509 - val_accuracy: 0.5924\n",
            "Epoch 68/100\n",
            "1563/1563 [==============================] - 22s 14ms/step - loss: 0.9419 - accuracy: 0.6760 - val_loss: 1.2559 - val_accuracy: 0.5850\n",
            "Epoch 69/100\n",
            "1563/1563 [==============================] - 22s 14ms/step - loss: 0.9415 - accuracy: 0.6763 - val_loss: 1.2472 - val_accuracy: 0.5906\n",
            "Epoch 70/100\n",
            "1563/1563 [==============================] - 23s 14ms/step - loss: 0.9354 - accuracy: 0.6796 - val_loss: 1.2560 - val_accuracy: 0.5862\n",
            "Epoch 71/100\n",
            "1563/1563 [==============================] - 23s 14ms/step - loss: 0.9359 - accuracy: 0.6791 - val_loss: 1.2630 - val_accuracy: 0.5846\n",
            "Epoch 72/100\n",
            "1563/1563 [==============================] - 23s 14ms/step - loss: 0.9388 - accuracy: 0.6804 - val_loss: 1.2675 - val_accuracy: 0.5837\n",
            "Epoch 73/100\n",
            "1563/1563 [==============================] - 23s 14ms/step - loss: 0.9358 - accuracy: 0.6806 - val_loss: 1.2601 - val_accuracy: 0.5851\n",
            "Epoch 74/100\n",
            "1563/1563 [==============================] - 23s 14ms/step - loss: 0.9285 - accuracy: 0.6803 - val_loss: 1.2652 - val_accuracy: 0.5799\n",
            "Epoch 75/100\n",
            "1563/1563 [==============================] - 23s 15ms/step - loss: 0.9363 - accuracy: 0.6820 - val_loss: 1.2549 - val_accuracy: 0.5925\n",
            "Epoch 76/100\n",
            "1563/1563 [==============================] - 23s 15ms/step - loss: 0.9328 - accuracy: 0.6788 - val_loss: 1.2504 - val_accuracy: 0.5888\n",
            "Epoch 77/100\n",
            "1563/1563 [==============================] - 23s 15ms/step - loss: 0.9225 - accuracy: 0.6856 - val_loss: 1.2590 - val_accuracy: 0.5839\n",
            "Epoch 78/100\n",
            "1563/1563 [==============================] - 23s 15ms/step - loss: 0.9377 - accuracy: 0.6760 - val_loss: 1.2656 - val_accuracy: 0.5828\n",
            "Epoch 79/100\n",
            "1563/1563 [==============================] - 23s 15ms/step - loss: 0.9325 - accuracy: 0.6812 - val_loss: 1.2598 - val_accuracy: 0.5856\n",
            "Epoch 80/100\n",
            "1563/1563 [==============================] - 23s 15ms/step - loss: 0.9476 - accuracy: 0.6746 - val_loss: 1.2540 - val_accuracy: 0.5903\n",
            "Epoch 81/100\n",
            "1563/1563 [==============================] - 23s 15ms/step - loss: 0.9337 - accuracy: 0.6785 - val_loss: 1.2861 - val_accuracy: 0.5777\n",
            "Epoch 82/100\n",
            "1563/1563 [==============================] - 23s 15ms/step - loss: 0.9306 - accuracy: 0.6817 - val_loss: 1.2844 - val_accuracy: 0.5815\n",
            "Epoch 83/100\n",
            "1563/1563 [==============================] - 23s 15ms/step - loss: 0.9322 - accuracy: 0.6822 - val_loss: 1.2643 - val_accuracy: 0.5895\n",
            "Epoch 84/100\n",
            "1563/1563 [==============================] - 23s 15ms/step - loss: 0.9359 - accuracy: 0.6805 - val_loss: 1.2618 - val_accuracy: 0.5879\n",
            "Epoch 85/100\n",
            "1563/1563 [==============================] - 23s 15ms/step - loss: 0.9294 - accuracy: 0.6814 - val_loss: 1.2704 - val_accuracy: 0.5835\n",
            "Epoch 86/100\n",
            "1563/1563 [==============================] - 23s 15ms/step - loss: 0.9296 - accuracy: 0.6830 - val_loss: 1.2994 - val_accuracy: 0.5764\n",
            "Epoch 87/100\n",
            "1563/1563 [==============================] - 23s 15ms/step - loss: 0.9269 - accuracy: 0.6852 - val_loss: 1.2639 - val_accuracy: 0.5835\n",
            "Epoch 88/100\n",
            "1563/1563 [==============================] - 23s 15ms/step - loss: 0.9295 - accuracy: 0.6828 - val_loss: 1.2888 - val_accuracy: 0.5749\n",
            "Epoch 89/100\n",
            "1563/1563 [==============================] - 23s 15ms/step - loss: 0.9302 - accuracy: 0.6806 - val_loss: 1.2691 - val_accuracy: 0.5881\n",
            "Epoch 90/100\n",
            "1563/1563 [==============================] - 23s 15ms/step - loss: 0.9285 - accuracy: 0.6797 - val_loss: 1.2780 - val_accuracy: 0.5801\n",
            "Epoch 91/100\n",
            "1563/1563 [==============================] - 23s 15ms/step - loss: 0.9301 - accuracy: 0.6834 - val_loss: 1.2801 - val_accuracy: 0.5793\n",
            "Epoch 92/100\n",
            "1563/1563 [==============================] - 23s 15ms/step - loss: 0.9227 - accuracy: 0.6824 - val_loss: 1.2758 - val_accuracy: 0.5807\n",
            "Epoch 93/100\n",
            "1563/1563 [==============================] - 23s 15ms/step - loss: 0.9353 - accuracy: 0.6797 - val_loss: 1.2636 - val_accuracy: 0.5843\n",
            "Epoch 94/100\n",
            "1563/1563 [==============================] - 23s 15ms/step - loss: 0.9265 - accuracy: 0.6861 - val_loss: 1.2995 - val_accuracy: 0.5820\n",
            "Epoch 95/100\n",
            "1563/1563 [==============================] - 23s 15ms/step - loss: 0.9178 - accuracy: 0.6892 - val_loss: 1.2817 - val_accuracy: 0.5834\n",
            "Epoch 96/100\n",
            "1563/1563 [==============================] - 23s 15ms/step - loss: 0.9288 - accuracy: 0.6828 - val_loss: 1.2814 - val_accuracy: 0.5812\n",
            "Epoch 97/100\n",
            "1563/1563 [==============================] - 24s 15ms/step - loss: 0.9244 - accuracy: 0.6811 - val_loss: 1.2754 - val_accuracy: 0.5868\n",
            "Epoch 98/100\n",
            "1563/1563 [==============================] - 24s 15ms/step - loss: 0.9284 - accuracy: 0.6808 - val_loss: 1.2977 - val_accuracy: 0.5773\n",
            "Epoch 99/100\n",
            "1563/1563 [==============================] - 23s 15ms/step - loss: 0.9227 - accuracy: 0.6815 - val_loss: 1.2810 - val_accuracy: 0.5791\n",
            "Epoch 100/100\n",
            "1563/1563 [==============================] - 24s 15ms/step - loss: 0.9235 - accuracy: 0.6806 - val_loss: 1.2977 - val_accuracy: 0.5740\n"
          ],
          "name": "stdout"
        },
        {
          "output_type": "execute_result",
          "data": {
            "text/plain": [
              "<tensorflow.python.keras.callbacks.History at 0x7fbd2fe53610>"
            ]
          },
          "metadata": {
            "tags": []
          },
          "execution_count": 34
        }
      ]
    },
    {
      "cell_type": "code",
      "metadata": {
        "id": "HMnj15U2nk7z"
      },
      "source": [
        "# Predict on the first 5 test images.\n",
        "predictions = model.predict(test_images[:5])"
      ],
      "execution_count": 36,
      "outputs": []
    },
    {
      "cell_type": "code",
      "metadata": {
        "colab": {
          "base_uri": "https://localhost:8080/"
        },
        "id": "xCRNzyJvnn77",
        "outputId": "1f84b18d-8a30-419b-cd35-050421eab2ca"
      },
      "source": [
        "# Print our model's predictions.\n",
        "print(\"These are the model predictions :\")\n",
        "print(np.argmax(predictions, axis=1)) # [7, 2, 1, 0, 4]\n",
        "print(\"\\n\")"
      ],
      "execution_count": 37,
      "outputs": [
        {
          "output_type": "stream",
          "text": [
            "These are the model predictions :\n",
            "[3 1 0 1 4]\n",
            "\n",
            "\n"
          ],
          "name": "stdout"
        }
      ]
    },
    {
      "cell_type": "code",
      "metadata": {
        "colab": {
          "base_uri": "https://localhost:8080/"
        },
        "id": "E1dqOnRHnp7y",
        "outputId": "ea6028b7-c8bb-47bb-bd03-c4bf96209cf7"
      },
      "source": [
        "# Check our predictions against the ground truths.\n",
        "print(\"These are the corresponding labels :\")\n",
        "print(test_labels[:5]) # [7, 2, 1, 0, 4]"
      ],
      "execution_count": 38,
      "outputs": [
        {
          "output_type": "stream",
          "text": [
            "These are the corresponding labels :\n",
            "[[3]\n",
            " [8]\n",
            " [8]\n",
            " [0]\n",
            " [6]]\n"
          ],
          "name": "stdout"
        }
      ]
    }
  ]
}
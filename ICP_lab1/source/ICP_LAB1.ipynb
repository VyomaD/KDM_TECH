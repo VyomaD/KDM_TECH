{
  "nbformat": 4,
  "nbformat_minor": 0,
  "metadata": {
    "colab": {
      "name": "ICP_LAB1.ipynb",
      "provenance": [],
      "authorship_tag": "ABX9TyP14yRohl918aEhg7QQ9LV+",
      "include_colab_link": true
    },
    "kernelspec": {
      "name": "python3",
      "display_name": "Python 3"
    }
  },
  "cells": [
    {
      "cell_type": "markdown",
      "metadata": {
        "id": "view-in-github",
        "colab_type": "text"
      },
      "source": [
        "<a href=\"https://colab.research.google.com/github/VyomaD/kdm_tech/blob/main/ICP_lab1/source/ICP_LAB1.ipynb\" target=\"_parent\"><img src=\"https://colab.research.google.com/assets/colab-badge.svg\" alt=\"Open In Colab\"/></a>"
      ]
    },
    {
      "cell_type": "code",
      "metadata": {
        "colab": {
          "base_uri": "https://localhost:8080/"
        },
        "id": "CnBDSusYPzLv",
        "outputId": "8cae2330-8787-4998-d9db-9c6c1b00e6f1"
      },
      "source": [
        "import nltk\n",
        "nltk.download('punkt')\n",
        "nltk.download('averaged_perceptron_tagger')\n",
        "nltk.download('tagsets')\n",
        "\n",
        "from nltk.tokenize import sent_tokenize\n",
        "from nltk.tokenize import word_tokenize\n",
        "from nltk.probability import FreqDist\n",
        "from nltk import pos_tag\n",
        "from nltk.corpus import stopwords\n",
        "!pip install geotext\n",
        "from geotext import GeoText\n",
        "import pandas as pd\n",
        "import matplotlib.pyplot as plt\n",
        "import re\n",
        "import string"
      ],
      "execution_count": null,
      "outputs": [
        {
          "output_type": "stream",
          "text": [
            "[nltk_data] Downloading package punkt to /root/nltk_data...\n",
            "[nltk_data]   Unzipping tokenizers/punkt.zip.\n",
            "[nltk_data] Downloading package averaged_perceptron_tagger to\n",
            "[nltk_data]     /root/nltk_data...\n",
            "[nltk_data]   Unzipping taggers/averaged_perceptron_tagger.zip.\n",
            "[nltk_data] Downloading package tagsets to /root/nltk_data...\n",
            "[nltk_data]   Unzipping help/tagsets.zip.\n",
            "Collecting geotext\n",
            "\u001b[?25l  Downloading https://files.pythonhosted.org/packages/25/c5/36351193092cb4c1d7002d2a3babe5e72ae377868473933d6f63b41e5454/geotext-0.4.0-py2.py3-none-any.whl (2.0MB)\n",
            "\u001b[K     |████████████████████████████████| 2.0MB 4.9MB/s \n",
            "\u001b[?25hInstalling collected packages: geotext\n",
            "Successfully installed geotext-0.4.0\n"
          ],
          "name": "stdout"
        }
      ]
    },
    {
      "cell_type": "code",
      "metadata": {
        "colab": {
          "base_uri": "https://localhost:8080/"
        },
        "id": "maM2l3ANQs2A",
        "outputId": "89660703-c722-4896-a5bc-9697e69867b7"
      },
      "source": [
        "# Mounting google drive\n",
        "\n",
        "from google.colab import drive \n",
        "drive.mount('/content/drive')"
      ],
      "execution_count": null,
      "outputs": [
        {
          "output_type": "stream",
          "text": [
            "Mounted at /content/drive\n"
          ],
          "name": "stdout"
        }
      ]
    },
    {
      "cell_type": "code",
      "metadata": {
        "id": "pKWkxUrAZfz2"
      },
      "source": [
        "# Importing data and performing sent,word tokenization\n",
        "\n",
        "wwdatapath = pd.read_csv(\"/content/drive/MyDrive/data/worldwar1_data.txt\",delimiter=\"\\t\")\n",
        "worldwar_text = wwdatapath.to_string()\n",
        "tokenized_text = sent_tokenize(worldwar_text)\n",
        "tokenized_word = word_tokenize(worldwar_text)\n",
        "tokenized_word"
      ],
      "execution_count": null,
      "outputs": []
    },
    {
      "cell_type": "code",
      "metadata": {
        "colab": {
          "base_uri": "https://localhost:8080/"
        },
        "id": "JKq0tGXZaaah",
        "outputId": "505fc023-176a-4464-e122-527b0e5c95e7"
      },
      "source": [
        "# ANALYSIS 1: Identifying places in the text\n",
        "\n",
        "places = GeoText(worldwar_text) # Extracting places using geotext library\n",
        "unique_countries = list(set(places.countries)) # finding unique countries\n",
        "unique_cities = list(set(places.cities)) # finding unique cities\n",
        "print('All unique countries: ', unique_countries)\n",
        "print('All unique cities: ', unique_cities)\n"
      ],
      "execution_count": null,
      "outputs": [
        {
          "output_type": "stream",
          "text": [
            "All unique countries:  ['Bulgaria', 'Mexico', 'Italy', 'Romania', 'Japan', 'United States', 'Greece', 'Germany', 'Russia', 'China', 'Belgium', 'France', 'Serbia']\n",
            "All unique cities:  ['Versailles', 'Belgrade', 'Sarajevo', 'London', 'March', 'Alliance']\n"
          ],
          "name": "stdout"
        }
      ]
    },
    {
      "cell_type": "code",
      "metadata": {
        "colab": {
          "base_uri": "https://localhost:8080/",
          "height": 311
        },
        "id": "La-maqn2ah_e",
        "outputId": "28884411-168b-4aa2-c33c-6f9c1634b7f4"
      },
      "source": [
        "# ANALYSIS 2: Extracting time range for WW1\n",
        "\n",
        "years = re.findall(r'\\d\\d\\d\\d', worldwar_text) # finding all 4 digit years\n",
        "fdist = FreqDist(years) # plotting freq distribution of occurence of years\n",
        "fdist.plot(7,cumulative=False, title='Count of years in the text')\n",
        "plt.show()"
      ],
      "execution_count": null,
      "outputs": [
        {
          "output_type": "display_data",
          "data": {
            "image/png": "[encoded data removed]",
            "text/plain": [
              "<Figure size 432x288 with 1 Axes>"
            ]
          },
          "metadata": {
            "tags": [],
            "needs_background": "light"
          }
        }
      ]
    },
    {
      "cell_type": "code",
      "metadata": {
        "colab": {
          "base_uri": "https://localhost:8080/",
          "height": 308
        },
        "id": "rQJgjRAYazt2",
        "outputId": "9e5ef1cb-c544-47c4-89dd-a11c25f3daaa"
      },
      "source": [
        "# ANALYSIS 3: Distribution of Parts-of-speech\n",
        "\n",
        "# finding all pos from the text using nltk\n",
        "pos_tags = nltk.pos_tag(tokenized_word) \n",
        "\n",
        "# Extracting proper noun,common noun, pronuon, adverb, verb and adjective\n",
        "prop_nn, comm_nn, pr_nn, advrb, vrb, adj = [], [], [], [], [], []\n",
        "for tag in pos_tags:\n",
        "    wrd, tg = tag\n",
        "\n",
        "    # iterating over the word to find any punctuation and skipping those words\n",
        "    if any([(True if alpt in string.punctuation else False) for alpt in wrd]):\n",
        "        continue\n",
        "    \n",
        "    # classifying different parts of speech\n",
        "    if 'NNP' in tg:\n",
        "        prop_nn.append(wrd)\n",
        "    elif ('NNP' not in tg) and ('NN' in tg):\n",
        "        comm_nn.append(wrd)\n",
        "    elif 'PR' in tg:\n",
        "        pr_nn.append(wrd)\n",
        "    elif 'RB' in tg:\n",
        "        advrb.append(wrd)\n",
        "    elif 'VB' in tg:\n",
        "        vrb.append(wrd)\n",
        "    elif 'JJ' in tg:\n",
        "        adj.append(wrd)\n",
        "\n",
        "# Extracting unique words for each POS\n",
        "prop_nn = list(set(prop_nn))\n",
        "comm_nn = list(set(comm_nn))\n",
        "pr_nn = list(set(pr_nn))\n",
        "advrb = list(set(advrb))\n",
        "vrb = list(set(vrb))\n",
        "adj = list(set(adj))\n",
        "\n",
        "# plotting the POS distribution\n",
        "plt.bar(['p_noun', 'c_noun', 'pronoun', 'adverb', 'verb',\n",
        "          'adjective'], [len(prop_nn), len(comm_nn), len(pr_nn), len(advrb),\n",
        "          len(vrb), len(adj)])\n",
        "plt.xlabel('parts of speech')\n",
        "plt.ylabel('word count')\n",
        "plt.suptitle('Parts of speech distribution')\n",
        "plt.show()\n"
      ],
      "execution_count": null,
      "outputs": [
        {
          "output_type": "display_data",
          "data": {
            "image/png": "[encoded data removed]",
            "text/plain": [
              "<Figure size 432x288 with 1 Axes>"
            ]
          },
          "metadata": {
            "tags": [],
            "needs_background": "light"
          }
        }
      ]
    }
  ]
}